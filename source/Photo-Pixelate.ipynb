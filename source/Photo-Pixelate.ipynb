{
 "cells": [
  {
   "cell_type": "markdown",
   "metadata": {},
   "source": [
    "### Import"
   ]
  },
  {
   "cell_type": "code",
   "execution_count": 1,
   "metadata": {},
   "outputs": [],
   "source": [
    "import matplotlib\n",
    "from matplotlib import pyplot as plt\n",
    "import numpy as np\n",
    "import os\n",
    "from PIL import Image\n",
    "from random import randint"
   ]
  },
  {
   "cell_type": "markdown",
   "metadata": {},
   "source": [
    "### Target Image Parameters"
   ]
  },
  {
   "cell_type": "code",
   "execution_count": 25,
   "metadata": {},
   "outputs": [],
   "source": [
    "target_height = 40\n",
    "target_width = 60\n",
    "operation = \"euclidean\" \n",
    "\n",
    "target_path = \"../input/gorl.jpg\""
   ]
  },
  {
   "cell_type": "markdown",
   "metadata": {},
   "source": [
    "### Replacement Image Parameters"
   ]
  },
  {
   "cell_type": "code",
   "execution_count": 3,
   "metadata": {},
   "outputs": [],
   "source": [
    "replacement_height = 50\n",
    "replacement_width = 50\n",
    "frequency = 10\n",
    "proximity = 10\n",
    "max_saturation_adjustment = 10\n",
    "max_brightness_adjustment = 10\n",
    "# kernel_size = 1\n",
    "\n",
    "replacement_path = \"../replacement\""
   ]
  },
  {
   "cell_type": "markdown",
   "metadata": {},
   "source": [
    "### Pixel Image"
   ]
  },
  {
   "cell_type": "code",
   "execution_count": 10,
   "metadata": {},
   "outputs": [],
   "source": [
    "class PixelImage:\n",
    "    _resolution = (50, 50)\n",
    "    _saturation_adjust = 1\n",
    "    _brightness_adjust = 1\n",
    "    _operation = \"euclidean\"\n",
    "    \n",
    "    def __init__(self, image):\n",
    "        self._image_key = 0\n",
    "        self.image = image  \n",
    "        self._process_image()\n",
    "    \n",
    "    @classmethod\n",
    "    def load_parameters(self, width=None, height=None, saturation_adjust=None, brightness_adjust=None, operation=None):\n",
    "        if width is not None and height is not None:\n",
    "            self._resolution = (width, height)\n",
    "        if saturation_adjust is not None:\n",
    "            self._saturation_adjust = saturation_adjust\n",
    "        if brightness_adjust is not None:\n",
    "            self._brightness_adjust = brightness_adjust\n",
    "        if operation is not None:\n",
    "            self._operation = operation\n",
    "        \n",
    "    def key_compare(self, pixel):\n",
    "        if (self._operation == \"euclidean\"):\n",
    "            return np.linalg.norm(self._image_key - pixel)\n",
    "        \n",
    "    def display(self):\n",
    "        plt.imshow(self.image)\n",
    "        \n",
    "    def _process_image(self):\n",
    "        self.image = self.image.resize(self._resolution)\n",
    "        self.image = np.array(self.image)\n",
    "        self._image_key = self.prepare_key(self.image)\n",
    "        \n",
    "    @classmethod\n",
    "    def prepare_key(self, image):\n",
    "        if (self._operation == \"euclidean\"):\n",
    "            return self._euclidean(image)\n",
    "    \n",
    "    @staticmethod\n",
    "    def _euclidean(image):\n",
    "        image_key = np.array([0, 0, 0])\n",
    "        for band in image:\n",
    "            for pixel in band:\n",
    "                image_key += pixel[0:3]\n",
    "        return image_key / (image.shape[0] * image.shape[1])\n",
    "            "
   ]
  },
  {
   "cell_type": "code",
   "execution_count": 5,
   "metadata": {},
   "outputs": [],
   "source": [
    "PixelImage.load_parameters(width=replacement_width, \n",
    "                           height=replacement_height, \n",
    "                           saturation_adjust=max_saturation_adjustment, \n",
    "                           brightness_adjust=max_brightness_adjustment, \n",
    "                           operation=operation)"
   ]
  },
  {
   "cell_type": "code",
   "execution_count": 6,
   "metadata": {},
   "outputs": [
    {
     "data": {
      "image/png": "[encoded data removed]",
      "text/plain": [
       "<Figure size 432x288 with 1 Axes>"
      ]
     },
     "metadata": {
      "needs_background": "light"
     },
     "output_type": "display_data"
    }
   ],
   "source": [
    "default_image = Image.open(target_path)\n",
    "p1 = PixelImage(default_image)\n",
    "p1.display()"
   ]
  },
  {
   "cell_type": "markdown",
   "metadata": {},
   "source": [
    "### Pixelator"
   ]
  },
  {
   "cell_type": "code",
   "execution_count": 28,
   "metadata": {},
   "outputs": [],
   "source": [
    "class Pixelator:\n",
    "    def __init__(self):\n",
    "        self._white_list_file_types = ['png', 'jpg', 'jpeg', 'bmp', 'ppm']\n",
    "        self._resolution = (40, 60) # (width, height)\n",
    "        self._replacement_images = []\n",
    "        self._target_image = None\n",
    "        self._target_image_key = 0\n",
    "        self.output_image = None\n",
    "        \n",
    "    def load_parameters(self, width=None, height=None, white_list_file_types=None):\n",
    "        if width is not None and height is not None:\n",
    "            self._resolution = (width, height)\n",
    "        if white_list_file_types is not None:\n",
    "            self._white_list_file_types = white_list_file_types\n",
    "    \n",
    "    def load_replacement_images(self, path):\n",
    "        print(\"loading replacement images...\")\n",
    "        self.path, directories, files = next(os.walk(path))\n",
    "        for i in range(len(files)):\n",
    "            self._attempt_append_image(files[i])\n",
    "        print(\"done\")\n",
    "        \n",
    "    def photo_pixelate_target_image(self, target_path):\n",
    "        print(\"pixelating target image...\")\n",
    "        list_of_pixel_images = []\n",
    "        self._target_image = Image.open(target_path)\n",
    "        self._process_target_image()\n",
    "        print(self._target_image.shape)\n",
    "        for band in self._target_image:\n",
    "            for pixel in band:\n",
    "                list_of_pixel_images.append(self._get_closest_image(pixel))\n",
    "        self._convert_output_to_image(list_of_pixel_images)\n",
    "        print(\"done\")\n",
    "        \n",
    "    def display(self):\n",
    "        if self.output_image is not None:\n",
    "            plt.imshow(self.output_image)\n",
    "    \n",
    "    def _attempt_append_image(self, file_name):\n",
    "        for file_type in self._white_list_file_types: \n",
    "            if file_type.upper() in file_name.upper():\n",
    "                image_file_path = self.path + '/' + file_name\n",
    "                image = Image.open(image_file_path)\n",
    "                pixel_image = PixelImage(image)\n",
    "                self._replacement_images.append(pixel_image)\n",
    "                \n",
    "    def _process_target_image(self):\n",
    "        self._target_image = self._target_image.resize(self._resolution)\n",
    "        self._target_image = np.array(self._target_image)\n",
    "                \n",
    "    def _get_closest_image(self, pixel):\n",
    "        closest_image = self._replacement_images[0]\n",
    "        closest_value = self._replacement_images[0].key_compare(pixel)\n",
    "        for pixel_image in self._replacement_images[1:len(self._replacement_images)]:\n",
    "            value = pixel_image.key_compare(pixel)\n",
    "            if value < closest_value:\n",
    "                closest_image = pixel_image\n",
    "                closest_value = value\n",
    "        return closest_image\n",
    "\n",
    "    def _convert_output_to_image(self, list_of_pixel_images):\n",
    "        list_of_pixel_images = np.array(list_of_pixel_images)\n",
    "        list_of_pixel_images.reshape(40, 60)\n",
    "        print(list_of_pixel_images.shape)\n",
    "        "
   ]
  },
  {
   "cell_type": "code",
   "execution_count": 29,
   "metadata": {},
   "outputs": [
    {
     "name": "stdout",
     "output_type": "stream",
     "text": [
      "loading replacement images...\n",
      "done\n",
      "pixelating target image...\n",
      "(40, 60, 3)\n",
      "(2400,)\n",
      "done\n"
     ]
    }
   ],
   "source": [
    "pixelator = Pixelator()\n",
    "pixelator.load_parameters(width=target_width, height=target_height)\n",
    "pixelator.load_replacement_images(replacement_path)\n",
    "pixelator.photo_pixelate_target_image(target_path)\n",
    "pixelator.display()"
   ]
  },
  {
   "cell_type": "code",
   "execution_count": null,
   "metadata": {},
   "outputs": [],
   "source": []
  }
 ],
 "metadata": {
  "kernelspec": {
   "display_name": "Python 3",
   "language": "python",
   "name": "python3"
  },
  "language_info": {
   "codemirror_mode": {
    "name": "ipython",
    "version": 3
   },
   "file_extension": ".py",
   "mimetype": "text/x-python",
   "name": "python",
   "nbconvert_exporter": "python",
   "pygments_lexer": "ipython3",
   "version": "3.7.4"
  }
 },
 "nbformat": 4,
 "nbformat_minor": 4
}
